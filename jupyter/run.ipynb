{
 "cells": [
  {
   "cell_type": "code",
   "execution_count": 1,
   "id": "523260fe-b300-4ac6-b126-1fade5810896",
   "metadata": {},
   "outputs": [],
   "source": [
    "import numpy as np"
   ]
  },
  {
   "cell_type": "markdown",
   "id": "0ab623a1-93b1-4329-ac8f-05562f9075b2",
   "metadata": {},
   "source": [
    "# Download model\n",
    "\n",
    "To download the model, the directoy which will contain the model data must not exist."
   ]
  },
  {
   "cell_type": "code",
   "execution_count": null,
   "id": "93ce6f94-3178-4c3a-987f-f9d90c00572b",
   "metadata": {},
   "outputs": [
    {
     "data": {
      "application/vnd.jupyter.widget-view+json": {
       "model_id": "63c45464edc64ac8b993e0027eb2315f",
       "version_major": 2,
       "version_minor": 0
      },
      "text/plain": [
       "Fetching 19 files:   0%|          | 0/19 [00:00<?, ?it/s]"
      ]
     },
     "metadata": {},
     "output_type": "display_data"
    },
    {
     "data": {
      "application/vnd.jupyter.widget-view+json": {
       "model_id": "744c1a01d6ae4c56ad7d5ca31b2a70d2",
       "version_major": 2,
       "version_minor": 0
      },
      "text/plain": [
       "LICENSE:   0%|          | 0.00/1.08k [00:00<?, ?B/s]"
      ]
     },
     "metadata": {},
     "output_type": "display_data"
    },
    {
     "data": {
      "application/vnd.jupyter.widget-view+json": {
       "model_id": "9eb361eddd2a462d9ac471284914910b",
       "version_major": 2,
       "version_minor": 0
      },
      "text/plain": [
       "SECURITY.md:   0%|          | 0.00/2.66k [00:00<?, ?B/s]"
      ]
     },
     "metadata": {},
     "output_type": "display_data"
    },
    {
     "data": {
      "application/vnd.jupyter.widget-view+json": {
       "model_id": "19a083d2a8704d28827d91a97b6d85f0",
       "version_major": 2,
       "version_minor": 0
      },
      "text/plain": [
       "added_tokens.json:   0%|          | 0.00/306 [00:00<?, ?B/s]"
      ]
     },
     "metadata": {},
     "output_type": "display_data"
    },
    {
     "data": {
      "application/vnd.jupyter.widget-view+json": {
       "model_id": "b575cc5af9bc4f548e38e773ada3681f",
       "version_major": 2,
       "version_minor": 0
      },
      "text/plain": [
       ".gitattributes:   0%|          | 0.00/1.52k [00:00<?, ?B/s]"
      ]
     },
     "metadata": {},
     "output_type": "display_data"
    },
    {
     "data": {
      "application/vnd.jupyter.widget-view+json": {
       "model_id": "2376cb72f36c46a8ad6c1f51c515a0b6",
       "version_major": 2,
       "version_minor": 0
      },
      "text/plain": [
       "CODE_OF_CONDUCT.md:   0%|          | 0.00/453 [00:00<?, ?B/s]"
      ]
     },
     "metadata": {},
     "output_type": "display_data"
    },
    {
     "data": {
      "application/vnd.jupyter.widget-view+json": {
       "model_id": "a76f5fd5483744e2891df708860c67b7",
       "version_major": 2,
       "version_minor": 0
      },
      "text/plain": [
       "config.json:   0%|          | 0.00/3.45k [00:00<?, ?B/s]"
      ]
     },
     "metadata": {},
     "output_type": "display_data"
    },
    {
     "data": {
      "application/vnd.jupyter.widget-view+json": {
       "model_id": "8f600767b10243c4ac06180e4b241fc2",
       "version_major": 2,
       "version_minor": 0
      },
      "text/plain": [
       "README.md:   0%|          | 0.00/48.3k [00:00<?, ?B/s]"
      ]
     },
     "metadata": {},
     "output_type": "display_data"
    },
    {
     "data": {
      "application/vnd.jupyter.widget-view+json": {
       "model_id": "b84e0ff1c1414272a8f3379581deb594",
       "version_major": 2,
       "version_minor": 0
      },
      "text/plain": [
       "NOTICE.md:   0%|          | 0.00/1.81k [00:00<?, ?B/s]"
      ]
     },
     "metadata": {},
     "output_type": "display_data"
    },
    {
     "data": {
      "application/vnd.jupyter.widget-view+json": {
       "model_id": "ad09a22750c0468998973c69240ccc86",
       "version_major": 2,
       "version_minor": 0
      },
      "text/plain": [
       "generation_config.json:   0%|          | 0.00/195 [00:00<?, ?B/s]"
      ]
     },
     "metadata": {},
     "output_type": "display_data"
    },
    {
     "data": {
      "application/vnd.jupyter.widget-view+json": {
       "model_id": "35d1af2076974dd78c6bab519d60468a",
       "version_major": 2,
       "version_minor": 0
      },
      "text/plain": [
       "model.safetensors.index.json:   0%|          | 0.00/16.3k [00:00<?, ?B/s]"
      ]
     },
     "metadata": {},
     "output_type": "display_data"
    },
    {
     "data": {
      "application/vnd.jupyter.widget-view+json": {
       "model_id": "45256627ef4a4ae988ae16a90065bf5f",
       "version_major": 2,
       "version_minor": 0
      },
      "text/plain": [
       "modeling_phi3.py:   0%|          | 0.00/73.8k [00:00<?, ?B/s]"
      ]
     },
     "metadata": {},
     "output_type": "display_data"
    },
    {
     "data": {
      "application/vnd.jupyter.widget-view+json": {
       "model_id": "51a2f26b354947d49fb8912ce0949bfb",
       "version_major": 2,
       "version_minor": 0
      },
      "text/plain": [
       "configuration_phi3.py:   0%|          | 0.00/11.2k [00:00<?, ?B/s]"
      ]
     },
     "metadata": {},
     "output_type": "display_data"
    },
    {
     "data": {
      "application/vnd.jupyter.widget-view+json": {
       "model_id": "62f042c3f51c4007a9f4fea9d9088498",
       "version_major": 2,
       "version_minor": 0
      },
      "text/plain": [
       "sample_finetune.py:   0%|          | 0.00/6.13k [00:00<?, ?B/s]"
      ]
     },
     "metadata": {},
     "output_type": "display_data"
    },
    {
     "data": {
      "application/vnd.jupyter.widget-view+json": {
       "model_id": "2d902de3f4424f39a40cbeaf15e94d9e",
       "version_major": 2,
       "version_minor": 0
      },
      "text/plain": [
       "model-00002-of-00002.safetensors:   0%|          | 0.00/2.67G [00:00<?, ?B/s]"
      ]
     },
     "metadata": {},
     "output_type": "display_data"
    },
    {
     "data": {
      "application/vnd.jupyter.widget-view+json": {
       "model_id": "ff3c81f024b1475895925569f178ead3",
       "version_major": 2,
       "version_minor": 0
      },
      "text/plain": [
       "model-00001-of-00002.safetensors:   0%|          | 0.00/4.97G [00:00<?, ?B/s]"
      ]
     },
     "metadata": {},
     "output_type": "display_data"
    },
    {
     "data": {
      "application/vnd.jupyter.widget-view+json": {
       "model_id": "0ecc482546f040289337322c3b153801",
       "version_major": 2,
       "version_minor": 0
      },
      "text/plain": [
       "special_tokens_map.json:   0%|          | 0.00/665 [00:00<?, ?B/s]"
      ]
     },
     "metadata": {},
     "output_type": "display_data"
    },
    {
     "data": {
      "application/vnd.jupyter.widget-view+json": {
       "model_id": "d7a6e0e32e164e4694fe6c997386ac7c",
       "version_major": 2,
       "version_minor": 0
      },
      "text/plain": [
       "tokenizer.json:   0%|          | 0.00/1.84M [00:00<?, ?B/s]"
      ]
     },
     "metadata": {},
     "output_type": "display_data"
    },
    {
     "data": {
      "application/vnd.jupyter.widget-view+json": {
       "model_id": "77197004dd8d4743a15bcc11abeca712",
       "version_major": 2,
       "version_minor": 0
      },
      "text/plain": [
       "tokenizer_config.json:   0%|          | 0.00/3.98k [00:00<?, ?B/s]"
      ]
     },
     "metadata": {},
     "output_type": "display_data"
    },
    {
     "data": {
      "application/vnd.jupyter.widget-view+json": {
       "model_id": "c659e17dfc594eb79ff126bc96f8edb1",
       "version_major": 2,
       "version_minor": 0
      },
      "text/plain": [
       "tokenizer.model:   0%|          | 0.00/500k [00:00<?, ?B/s]"
      ]
     },
     "metadata": {},
     "output_type": "display_data"
    }
   ],
   "source": [
    "from huggingface_hub import snapshot_download\n",
    "from pathlib import Path\n",
    "import os\n",
    "\n",
    "# model_path = Path('/remote/gpu03/schiller/ExecLLM/models/huggingface').joinpath('microsoft/Phi-3.5-MoE-instruct')\n",
    "model_path = Path('/remote/gpu03/schiller/ExecLLM/models/huggingface').joinpath('microsoft/Phi-3.5-mini-instruct')\n",
    "\n",
    "if not model_path.is_dir():\n",
    "    model_path.mkdir(parents=True, exist_ok=True)\n",
    "    # snapshot_download(repo_id=\"microsoft/Phi-3.5-MoE-instruct\", local_dir=mistral_models_path)\n",
    "    snapshot_download(repo_id=\"microsoft/Phi-3.5-mini-instruct\", local_dir=model_path)"
   ]
  },
  {
   "cell_type": "markdown",
   "id": "6fe40341-f519-4641-bf6c-31ec445932a6",
   "metadata": {},
   "source": [
    "# Run"
   ]
  },
  {
   "cell_type": "code",
   "execution_count": 29,
   "id": "fddb25bf-0ac2-4d40-9766-8d7a9e883a83",
   "metadata": {},
   "outputs": [],
   "source": [
    " torch.cuda.empty_cache()"
   ]
  },
  {
   "cell_type": "code",
   "execution_count": 2,
   "id": "b03c4ed9-74f5-407f-bb99-4f096ccf6b4d",
   "metadata": {},
   "outputs": [
    {
     "data": {
      "application/vnd.jupyter.widget-view+json": {
       "model_id": "d90343973bbb4c2abb5e9c6e3f67059a",
       "version_major": 2,
       "version_minor": 0
      },
      "text/plain": [
       "Loading checkpoint shards:   0%|          | 0/2 [00:00<?, ?it/s]"
      ]
     },
     "metadata": {},
     "output_type": "display_data"
    }
   ],
   "source": [
    "import torch\n",
    "from transformers import AutoModelForCausalLM, AutoTokenizer, pipeline, BitsAndBytesConfig\n",
    "\n",
    "quantization_config = BitsAndBytesConfig(load_in_4bit=True)\n",
    "\n",
    "if 'model' in locals():\n",
    "    del model\n",
    "model = AutoModelForCausalLM.from_pretrained( \n",
    "    # \"/remote/gpu03/schiller/ExecLLM/models/huggingface/microsoft/Phi-3.5-MoE-instruct\",\n",
    "    \"/remote/gpu03/schiller/ExecLLM/models/huggingface/microsoft/Phi-3.5-mini-instruct\",\n",
    "    device_map=\"cuda\",  \n",
    "    torch_dtype=torch.bfloat16,  \n",
    "    trust_remote_code=True,\n",
    "    # quantization_config=quantization_config,\n",
    "    attn_implementation=\"flash_attention_2\",\n",
    ")\n",
    "\n",
    "# tokenizer = AutoTokenizer.from_pretrained(\"microsoft/Phi-3.5-MoE-instruct\") \n",
    "tokenizer = AutoTokenizer.from_pretrained(\"microsoft/Phi-3.5-mini-instruct\") "
   ]
  },
  {
   "cell_type": "code",
   "execution_count": 2,
   "id": "3df63582-f617-4290-8f14-b0568055332f",
   "metadata": {},
   "outputs": [
    {
     "name": "stderr",
     "output_type": "stream",
     "text": [
      "/remote/gpu03/schiller/.conda/envs/ExecLLM/lib/python3.12/site-packages/transformers/generation/configuration_utils.py:601: UserWarning: `do_sample` is set to `False`. However, `temperature` is set to `0.0` -- this flag is only used in sample-based generation modes. You should set `do_sample=True` or unset `temperature`.\n",
      "  warnings.warn(\n",
      "The `seen_tokens` attribute is deprecated and will be removed in v4.41. Use the `cache_position` model input instead.\n",
      "You are not running the flash-attention implementation, expect numerical differences.\n"
     ]
    },
    {
     "name": "stdout",
     "output_type": "stream",
     "text": [
      " To solve the linear equation 2x + 3 = 7, you need to isolate the variable x. Here's how you can do it step by step:\n",
      "\n",
      "\n",
      "1. Subtract 3 from both sides of the equation to get rid of the constant term on the left side:\n",
      "\n",
      "   2x + 3 - 3 = 7 - 3\n",
      "\n",
      "   which simplifies to:\n",
      "\n",
      "   2x = 4\n",
      "\n",
      "\n",
      "2. Now, divide both sides of the equation by 2 to solve for x:\n",
      "\n",
      "   2x / 2 = 4 / 2\n",
      "\n",
      "\n",
      "3. This simplifies to:\n",
      "\n",
      "   x = 2\n",
      "\n",
      "\n",
      "So, the solution to the equation 2x + 3 = 7 is x = 2.\n"
     ]
    }
   ],
   "source": [
    "messages = [ \n",
    "    {\"role\": \"system\", \"content\": \"You are a helpful AI assistant.\"}, \n",
    "    {\"role\": \"user\", \"content\": \"Can you provide ways to eat combinations of bananas and dragonfruits?\"}, \n",
    "    {\"role\": \"assistant\", \"content\": \"Sure! Here are some ways to eat bananas and dragonfruits together: 1. Banana and dragonfruit smoothie: Blend bananas and dragonfruits together with some milk and honey. 2. Banana and dragonfruit salad: Mix sliced bananas and dragonfruits together with some lemon juice and honey.\"}, \n",
    "    {\"role\": \"user\", \"content\": \"What about solving an 2x + 3 = 7 equation?\"}, \n",
    "] \n",
    "\n",
    "pipe = pipeline( \n",
    "    \"text-generation\", \n",
    "    model=model, \n",
    "    tokenizer=tokenizer, \n",
    ") \n",
    "\n",
    "generation_args = { \n",
    "    \"max_new_tokens\": 500, \n",
    "    \"return_full_text\": False, \n",
    "    \"temperature\": 0.0, \n",
    "    \"do_sample\": False, \n",
    "}\n",
    "\n",
    "output = pipe(messages, **generation_args) \n",
    "print(output[0]['generated_text'])"
   ]
  },
  {
   "cell_type": "code",
   "execution_count": 7,
   "id": "dcc33fef-380a-42a1-8328-f5b4cb5ae1de",
   "metadata": {},
   "outputs": [
    {
     "name": "stdout",
     "output_type": "stream",
     "text": [
      " To find the value of $\\tau$, we need to rearrange the given equation and solve for $\\tau$. Let's start by substituting the given values into the equation:\n",
      "\n",
      "$0.1 = \\frac{2 - 1}{1 + 3} (1 - \\exp(-\\tau))$\n",
      "\n",
      "Now, let's simplify the equation step by step:\n",
      "\n",
      "$0.1 = \\frac{1}{4} (1 - \\exp(-\\tau))$\n",
      "\n",
      "To isolate the exponential term, we can multiply both sides by 4:\n",
      "\n",
      "$0.4 = 1 - \\exp(-\\tau)$\n",
      "\n",
      "Now, subtract 1 from both sides:\n",
      "\n",
      "$-0.6 = -\\exp(-\\tau)$\n",
      "\n",
      "Next, divide both sides by -1:\n",
      "\n",
      "$0.6 = \\exp(-\\tau)$\n",
      "\n",
      "Now, to solve for $\\tau$, we need to take the natural logarithm (ln) of both sides:\n",
      "\n",
      "$\\ln(0.6) = -\\tau$\n",
      "\n",
      "Finally, multiply both sides by -1 to get the value of $\\tau$:\n",
      "\n",
      "$\\tau = -\\ln(0.6)$\n",
      "\n",
      "So, the value of $\\tau$ is $-\\ln(0.6)$. Note that this is a symbolic representation of the value, and you would need to use a calculator or a Python code to compute the numerical value.\n",
      "\n",
      "Here's a Python code snippet to compute the numerical value of $\\tau$:\n",
      "\n",
      "```python\n",
      "import math\n",
      "\n",
      "tau = -math.log(0.6)\n",
      "print(tau)\n",
      "```\n",
      "\n",
      "After running this code, you will get the numerical value of $\\tau$.\n"
     ]
    }
   ],
   "source": [
    "messages = [ \n",
    "    {\"role\": \"system\", \"content\": \"You are a helpful AI assistant. Always explain your reasoning. DO NOT approximate values. To calculate values, you have to write a python code. After writing the python code, wait until the computed value is given. DO NOT execute the program. Then, proceed.\"}, \n",
    "    # {\"role\": \"user\", \"content\": r'We have the equation $y = \\frac{T_1 - T_2}{1 + z} (1 - \\exp(-\\tau))$. We specify $T_1 = 2$, $T_2 = 1$, $z = 3$ and $\\tau = 1$. What is the value of y?'}, \n",
    "    {\"role\": \"user\", \"content\": r'We have the equation $y = \\frac{T_1 - T_2}{1 + z} (1 - \\exp(-\\tau))$. We specify $T_1 = 2$, $T_2 = 1$, $z = 3$ and $y = 0.1$. What is the value of $\\tau$?'}, \n",
    "]\n",
    "\n",
    "pipe = pipeline( \n",
    "    \"text-generation\", \n",
    "    model=model, \n",
    "    tokenizer=tokenizer, \n",
    ") \n",
    "\n",
    "generation_args = { \n",
    "    \"max_new_tokens\": 1000, \n",
    "    \"return_full_text\": False, \n",
    "    \"temperature\": 0.0, \n",
    "    \"do_sample\": False, \n",
    "}\n",
    "\n",
    "output = pipe(messages, **generation_args) \n",
    "print(output[0]['generated_text'])"
   ]
  },
  {
   "cell_type": "code",
   "execution_count": 8,
   "id": "38248d41-6abf-4254-a6ea-ad3fab8629bf",
   "metadata": {},
   "outputs": [
    {
     "name": "stdout",
     "output_type": "stream",
     "text": [
      "0.5108256237659907\n"
     ]
    }
   ],
   "source": [
    "import math\n",
    "\n",
    "tau = -math.log(0.6)\n",
    "print(tau)"
   ]
  },
  {
   "cell_type": "code",
   "execution_count": 12,
   "id": "c584fb83-b8c7-432c-87dd-bc36ef4840e6",
   "metadata": {},
   "outputs": [
    {
     "name": "stdout",
     "output_type": "stream",
     "text": [
      "y =  0.09999615638585768\n"
     ]
    }
   ],
   "source": [
    "print('y = ', (1. - np.exp(-0.5108)) / 4.)"
   ]
  },
  {
   "cell_type": "code",
   "execution_count": 10,
   "id": "8bb41901-ff6d-44e0-9be5-0e8d5ff5fbbb",
   "metadata": {},
   "outputs": [
    {
     "name": "stdout",
     "output_type": "stream",
     "text": [
      " To find the average value of $\\tau$, we need to solve the given equation for $\\tau$ in both cases and then calculate the average of the two values. We will also calculate the uncertainty in $\\tau$ based on the two different values obtained.\n",
      "\n",
      "First, let's write the equation in terms of $\\tau$:\n",
      "\n",
      "$y = \\frac{T_1 - T_2}{1 + z} (1 - \\exp(-\\tau))$\n",
      "\n",
      "Now, let's solve for $\\tau$ in both cases:\n",
      "\n",
      "Case 1: $T_1 = 2$, $T_2 = 1$, $z = 3$, $y = 0.1$\n",
      "\n",
      "$0.1 = \\frac{2 - 1}{1 + 3} (1 - \\exp(-\\tau))$\n",
      "\n",
      "$0.1 = \\frac{1}{4} (1 - \\exp(-\\tau))$\n",
      "\n",
      "$0.4 = 1 - \\exp(-\\tau)$\n",
      "\n",
      "$\\exp(-\\tau) = 1 - 0.4$\n",
      "\n",
      "$\\exp(-\\tau) = 0.6$\n",
      "\n",
      "Taking the natural logarithm of both sides:\n",
      "\n",
      "$-\\tau = \\ln(0.6)$\n",
      "\n",
      "$\\tau = -\\ln(0.6)$\n",
      "\n",
      "Case 2: $T_1 = 2$, $T_2 = 10$, $z = 4$, $y = 0.05$\n",
      "\n",
      "$0.05 = \\frac{2 - 10}{1 + 4} (1 - \\exp(-\\tau))$\n",
      "\n",
      "$0.05 = \\frac{-8}{5} (1 - \\exp(-\\tau))$\n",
      "\n",
      "$-0.01 = \\frac{-8}{5} (1 - \\exp(-\\tau))$\n",
      "\n",
      "$0.0125 = \\frac{8}{5} (1 - \\exp(-\\tau))$\n",
      "\n",
      "$0.0015625 = 1 - \\exp(-\\tau)$\n",
      "\n",
      "$\\exp(-\\tau) = 1 - 0.0015625$\n",
      "\n",
      "$\\exp(-\\tau) = 0.9984375$\n",
      "\n",
      "Taking the natural logarithm of both sides:\n",
      "\n",
      "$-\\tau = \\ln(0.9984375)$\n",
      "\n",
      "$\\tau = -\\ln(0.9984375)$\n",
      "\n",
      "Now, let's calculate the average value of $\\tau$:\n",
      "\n",
      "$\\tau_{avg} = \\frac{-\\ln(0.6) + (-\\ln(0.9984375))}{2}$\n",
      "\n",
      "To find the uncertainty in $\\tau$, we can use the standard deviation formula for two values:\n",
      "\n",
      "$\\sigma_{\\tau} = \\sqrt{\\frac{(-\\ln(0.6) - \\tau_{avg})^2 + (-\\ln(0.9984375) - \\tau_{avg})^2}{2}}$\n",
      "\n",
      "Now, we have the python code to calculate the average value and uncertainty of $\\tau$:\n",
      "\n",
      "```python\n",
      "import math\n",
      "\n",
      "# Given values\n",
      "y1, T1, T2, z1 = 0.1, 2, 1, 3\n",
      "y2, T1, T2, z2 = 0.05, 2, 10, 4\n",
      "\n",
      "# Solve for tau in both cases\n",
      "tau1 = -math.log(1 - (y1 * (1 + z1) / (T1 - T2)))\n",
      "tau2 = -math.log(1 - (y2 * (1 + z2) / (T1 - T2)))\n",
      "\n",
      "# Calculate the average value of tau\n",
      "tau_avg = (tau1 + tau2) / 2\n",
      "\n",
      "# Calculate the uncertainty in tau\n",
      "tau_uncertainty = math.sqrt(((tau1 - tau_avg) ** 2 + (tau2 - tau_avg) ** 2) / 2)\n",
      "\n",
      "print(\"Average value of tau:\", tau_avg)\n",
      "print(\"Uncertainty in tau:\", tau_uncertainty)\n",
      "```\n",
      "\n",
      "After running this code, you will get the average value of $\\tau$ and its uncertainty. Note that I am not executing the program, but you can run it to get the numerical results.\n"
     ]
    }
   ],
   "source": [
    "messages = [ \n",
    "    {\"role\": \"system\", \"content\": \"You are a helpful AI assistant. Always explain your reasoning. DO NOT approximate values. To calculate values, you have to write a python code. After writing the python code, wait until the computed value is given. DO NOT execute the program. Then, proceed.\"}, \n",
    "    # {\"role\": \"user\", \"content\": r'We have the equation $y = \\frac{T_1 - T_2}{1 + z} (1 - \\exp(-\\tau))$. We specify $T_1 = 2$, $T_2 = 1$, $z = 3$ and $\\tau = 1$. What is the value of y?'}, \n",
    "    {\"role\": \"user\", \"content\": r'We have the equation $y = \\frac{T_1 - T_2}{1 + z} (1 - \\exp(-\\tau))$. We want to determine the value of $\\tau$. We have following values: For $T_1 = 2$, $T_2 = 1$, $z = 3$, we get $y = 0.1$ and for $T_1 = 2$, $T_2 = 10$, $z = 4$, we get $y = 0.05$. What is the average value of $\\tau$ and its uncertainty?'}, \n",
    "]\n",
    "\n",
    "pipe = pipeline( \n",
    "    \"text-generation\", \n",
    "    model=model, \n",
    "    tokenizer=tokenizer, \n",
    ") \n",
    "\n",
    "generation_args = { \n",
    "    \"max_new_tokens\": 1000, \n",
    "    \"return_full_text\": False, \n",
    "    \"temperature\": 0.0, \n",
    "    \"do_sample\": False, \n",
    "}\n",
    "\n",
    "output = pipe(messages, **generation_args) \n",
    "print(output[0]['generated_text'])"
   ]
  },
  {
   "cell_type": "code",
   "execution_count": 11,
   "id": "70caa7bd-caaa-43e5-a6aa-55b84a1ca042",
   "metadata": {},
   "outputs": [
    {
     "name": "stdout",
     "output_type": "stream",
     "text": [
      "Average value of tau: -0.03978091141809287\n",
      "Uncertainty in tau: 0.00900925275133918\n"
     ]
    }
   ],
   "source": [
    "import math\n",
    "\n",
    "# Given values\n",
    "y1, T1, T2, z1 = 0.1, 2, 1, 3\n",
    "y2, T1, T2, z2 = 0.05, 2, 10, 4\n",
    "\n",
    "# Solve for tau in both cases\n",
    "tau1 = -math.log(1 - (y1 * (1 + z1) / (T1 - T2)))\n",
    "tau2 = -math.log(1 - (y2 * (1 + z2) / (T1 - T2)))\n",
    "\n",
    "# Calculate the average value of tau\n",
    "tau_avg = (tau1 + tau2) / 2\n",
    "\n",
    "# Calculate the uncertainty in tau\n",
    "tau_uncertainty = math.sqrt(((tau1 - tau_avg) ** 2 + (tau2 - tau_avg) ** 2) / 2)\n",
    "\n",
    "print(\"Average value of tau:\", tau_avg)\n",
    "print(\"Uncertainty in tau:\", tau_uncertainty)"
   ]
  },
  {
   "cell_type": "code",
   "execution_count": 27,
   "id": "d8008b04-f7f2-4c6c-9391-08af90f4b36f",
   "metadata": {},
   "outputs": [
    {
     "name": "stdout",
     "output_type": "stream",
     "text": [
      " ```python\n",
      "import math\n",
      "\n",
      "# Given values for the first case\n",
      "y1, T1, T2, z1 = 0.1, 2, 1, 3\n",
      "\n",
      "# Given values for the second case\n",
      "y2, T1_second_case, T2_second_case, z2 = 0.05, 2, 10, 4\n",
      "\n",
      "# Solve for tau in both cases\n",
      "tau1 = -math.log(1 - (y1 * (1 + z1) / (T1 - T2)))\n",
      "tau2 = -math.log(1 - (y2 * (1 + z2) / (T1_second_case - T2_second_case)))\n",
      "\n",
      "# Calculate the average value of tau\n",
      "tau_avg = (tau1 + tau2) / 2\n",
      "\n",
      "# Calculate the uncertainty in tau\n",
      "tau_uncertainty = math.sqrt(((tau1 - tau_avg) ** 2 + (tau2 - tau_avg) ** 2) / 2)\n",
      "\n",
      "print(\"Average value of tau:\", tau_avg)\n",
      "print(\"Uncertainty in tau:\", tau_uncertainty)\n",
      "```\n",
      "\n",
      "This Python code snippet is complete and ready to be executed in a Python environment for calculating the average value of $\\tau$ and its uncertainty based on the provided values. No additional explanation is provided.\n"
     ]
    }
   ],
   "source": [
    "messages += [\n",
    "    {\"role\": \"assistant\", \"content\": output[0]['generated_text']},\n",
    "    # {\"role\": \"user\", \"content\": \"There is an error in the code. For the calculation of tau1 and tau2, you have to use different values for T1 and T2. However, this code does not consider this distinction. Please correct it.\"}\n",
    "    # {\"role\": \"user\", \"content\": \"In the python code, please use a better notation for T1_new and T2_new. Especially, do not use the terms T1_new and T2_new.\"}\n",
    "    {\"role\": \"user\", \"content\": \"Please just restate the python code. NOTHING ELSE! IN PARTICULAR, DO NOT WRITE ANY ADDITIONAL EXPLANATION!\"}\n",
    "]\n",
    "\n",
    "pipe = pipeline( \n",
    "    \"text-generation\", \n",
    "    model=model, \n",
    "    tokenizer=tokenizer, \n",
    ") \n",
    "\n",
    "generation_args = { \n",
    "    \"max_new_tokens\": 1000, \n",
    "    \"return_full_text\": False, \n",
    "    \"temperature\": 0.0, \n",
    "    \"do_sample\": False, \n",
    "}\n",
    "\n",
    "output = pipe(messages, **generation_args) \n",
    "print(output[0]['generated_text'])"
   ]
  },
  {
   "cell_type": "code",
   "execution_count": 19,
   "id": "8316fd3b-03cc-429f-83ee-0ebd849a635e",
   "metadata": {},
   "outputs": [
    {
     "name": "stdout",
     "output_type": "stream",
     "text": [
      "Average value of tau: 0.24002698254961852\n",
      "Uncertainty in tau: 0.2707986412163722\n"
     ]
    }
   ],
   "source": [
    "import math\n",
    "\n",
    "# Given values\n",
    "y1, T1, T2, z1 = 0.1, 2, 1, 3\n",
    "y2, T1_new, T2_new, z2 = 0.05, 2, 10, 4\n",
    "\n",
    "# Solve for tau in both cases\n",
    "tau1 = -math.log(1 - (y1 * (1 + z1) / (T1 - T2)))\n",
    "tau2 = -math.log(1 - (y2 * (1 + z2) / (T1_new - T2_new)))\n",
    "\n",
    "# Calculate the average value of tau\n",
    "tau_avg = (tau1 + tau2) / 2\n",
    "\n",
    "# Calculate the uncertainty in tau\n",
    "tau_uncertainty = math.sqrt(((tau1 - tau_avg) ** 2 + (tau2 - tau_avg) ** 2) / 2)\n",
    "\n",
    "print(\"Average value of tau:\", tau_avg)\n",
    "print(\"Uncertainty in tau:\", tau_uncertainty)"
   ]
  },
  {
   "cell_type": "code",
   "execution_count": 22,
   "id": "653472e7-61b1-44ea-9014-d1494988b573",
   "metadata": {},
   "outputs": [
    {
     "name": "stdout",
     "output_type": "stream",
     "text": [
      "tau1 =  0.5108256237659907\n",
      "tau2 =  -0.030771658666753687\n",
      "y =  0.1\n",
      "y =  0.05\n"
     ]
    }
   ],
   "source": [
    "print('tau1 = ', tau1)\n",
    "print('tau2 = ', tau2)\n",
    "print('y = ', (1. - np.exp(-tau1)) / 4.)\n",
    "print('y = ', (1. - np.exp(-tau2)) * (-8./5.))"
   ]
  },
  {
   "cell_type": "code",
   "execution_count": null,
   "id": "9a2030c7-a87f-49df-908f-ecd10706f910",
   "metadata": {},
   "outputs": [],
   "source": []
  }
 ],
 "metadata": {
  "kernelspec": {
   "display_name": "ExecLLM",
   "language": "python",
   "name": "execllm"
  },
  "language_info": {
   "codemirror_mode": {
    "name": "ipython",
    "version": 3
   },
   "file_extension": ".py",
   "mimetype": "text/x-python",
   "name": "python",
   "nbconvert_exporter": "python",
   "pygments_lexer": "ipython3",
   "version": "3.12.5"
  }
 },
 "nbformat": 4,
 "nbformat_minor": 5
}
