{
 "cells": [
  {
   "cell_type": "code",
   "execution_count": 1,
   "id": "2ae27830-9db9-4b82-8da9-b61ae6faea5e",
   "metadata": {},
   "outputs": [],
   "source": [
    "import numpy as np"
   ]
  },
  {
   "cell_type": "code",
   "execution_count": 2,
   "id": "f1e0c1b5-526b-48ca-b314-c157b5536cd1",
   "metadata": {},
   "outputs": [
    {
     "name": "stdout",
     "output_type": "stream",
     "text": [
      "/remote/gpu02/ore/data/x2/run1000.npz\n"
     ]
    }
   ],
   "source": [
    "data_dir = '/remote/gpu02/ore/data/x2'\n",
    "index = 1000\n",
    "data_file = data_dir + f\"/run{index}.npz\"\n",
    "print(data_file)"
   ]
  },
  {
   "cell_type": "code",
   "execution_count": 3,
   "id": "4aa12249-18b0-49c2-ae47-486bd3efb6a3",
   "metadata": {},
   "outputs": [
    {
     "name": "stdout",
     "output_type": "stream",
     "text": [
      "[  5.98111131   0.30908579 165.30935198  40.9139207    4.93876621\n",
      " 190.87747775]\n"
     ]
    }
   ],
   "source": [
    "data = np.load(data_file)\n",
    "# print(data['image'])\n",
    "print(data['label'])"
   ]
  },
  {
   "cell_type": "code",
   "execution_count": 4,
   "id": "5c9df7d5-d43f-46f4-8948-a5d45335b551",
   "metadata": {},
   "outputs": [
    {
     "name": "stdout",
     "output_type": "stream",
     "text": [
      "(70, 70, 1175)\n"
     ]
    }
   ],
   "source": [
    "image_data = data['image']\n",
    "print(image_data.shape)"
   ]
  },
  {
   "cell_type": "code",
   "execution_count": null,
   "id": "93d4c91c-1cc7-41b0-8155-d261400ee2f3",
   "metadata": {},
   "outputs": [],
   "source": []
  }
 ],
 "metadata": {
  "kernelspec": {
   "display_name": "ExecLLM",
   "language": "python",
   "name": "execllm"
  },
  "language_info": {
   "codemirror_mode": {
    "name": "ipython",
    "version": 3
   },
   "file_extension": ".py",
   "mimetype": "text/x-python",
   "name": "python",
   "nbconvert_exporter": "python",
   "pygments_lexer": "ipython3",
   "version": "3.12.5"
  }
 },
 "nbformat": 4,
 "nbformat_minor": 5
}
